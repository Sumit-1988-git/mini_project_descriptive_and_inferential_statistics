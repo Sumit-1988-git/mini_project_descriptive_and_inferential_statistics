{
  "nbformat": 4,
  "nbformat_minor": 0,
  "metadata": {
    "colab": {
      "provenance": []
    },
    "kernelspec": {
      "name": "python3",
      "display_name": "Python 3"
    },
    "language_info": {
      "name": "python"
    }
  },
  "cells": [
    {
      "cell_type": "code",
      "source": [
        "# Declaring and Importing the necessary Libraries\n",
        "import statistics\n",
        "import pandas as pd\n",
        "import numpy as np\n",
        "import math\n",
        "import scipy.stats as stats\n",
        "from scipy.stats import norm"
      ],
      "metadata": {
        "id": "FxscJl-lYhaJ"
      },
      "execution_count": 4,
      "outputs": []
    },
    {
      "cell_type": "markdown",
      "source": [
        "# Q1. Key Statistical Definitions"
      ],
      "metadata": {
        "id": "bl7p4swrPiZW"
      }
    },
    {
      "cell_type": "markdown",
      "source": [
        "#Problem:\n",
        " Write short definitions (2-3 lines each) for the following:\n",
        "\n",
        "a) Population and Sample\n",
        "\n",
        "\n",
        "b) Descriptive Statistics and Inferential Statistics\n",
        "\n",
        "\n",
        "c) Parameter and Statistic\n",
        "\n",
        "\n",
        "d) Qualitative and Quantitative Data"
      ],
      "metadata": {
        "id": "kmjhDybLP2Ns"
      }
    },
    {
      "cell_type": "markdown",
      "source": [
        "#**Solution**"
      ],
      "metadata": {
        "id": "ttssABSCP_-T"
      }
    },
    {
      "cell_type": "markdown",
      "source": [
        "## a) **Population and Sample**\n",
        "\n",
        "Population refers to the entire group of individuals or items that you're interested in studying.\n",
        "\n",
        "Sample is a subset of the population selected for analysis to make inferences about the whole.\n",
        "*Ratio of subset of population should be equal*\n",
        "\n",
        "## b) **Descriptive Statistics and Inferential Statistics**\n",
        "\n",
        "Descriptive Statistics summarize and describe the features of a dataset (e.g., mean, median, standard deviation).\n",
        "\n",
        "*Describing something about the data*\n",
        "\n",
        "Inferential Statistics use data from a sample to make conclusions or predictions about a population.\n",
        "\n",
        "*Getting the results out of the data is inference*\n",
        "\n",
        "## c) **Parameter and Statistic**\n",
        "\n",
        "Parameter is a numerical value that describes a characteristic of a population (e.g., population mean).\n",
        "\n",
        "*Features or column name which represnts the entire population*\n",
        "\n",
        "Statistic is a numerical value that describes a characteristic of a sample (e.g., sample mean).\n",
        "\n",
        "*Summary of a feature*\n",
        "\n",
        "## d) **Qualitative and Quantitative Data**\n",
        "\n",
        "Qualitative Data represent categories or qualities (e.g., colors, names, labels).\n",
        "\n",
        "Quantitative Data are numerical and represent measurable quantities (e.g., height, age, income)."
      ],
      "metadata": {
        "id": "jo1HfyOdQqLN"
      }
    },
    {
      "cell_type": "markdown",
      "source": [
        "#Q2. Measures of Central Tendency - Definitions\n"
      ],
      "metadata": {
        "id": "LvUFBJwxXb4z"
      }
    },
    {
      "cell_type": "markdown",
      "source": [
        "#Problem:\n",
        " Define the following terms with one example each:\n",
        "\n",
        "a) Mean\n",
        "\n",
        "\n",
        "b) Median\n",
        "\n",
        "\n",
        "c) Mode\n"
      ],
      "metadata": {
        "id": "cYORwjPPXky7"
      }
    },
    {
      "cell_type": "markdown",
      "source": [
        "#Solution"
      ],
      "metadata": {
        "id": "pQ1JfVlPXkvY"
      }
    },
    {
      "cell_type": "markdown",
      "source": [
        "**a) Mean**\n",
        "\n",
        "Definition: The mean is the average of a set of numbers, calculated by dividing the sum of all values by the number of values.\n",
        "\n",
        "Example: For the numbers 2, 4, 6, the mean is (2 + 4 + 6) / 3 = 4.\n",
        "\n",
        "**b) Median**\n",
        "\n",
        "Definition: The median is the middle value in an ordered dataset. If the number of values is even, it's the average of the two middle numbers.\n",
        "\n",
        "Example: For the numbers 3, 5, 7, the median is 5.\n",
        "\n",
        "**c) Mode**\n",
        "\n",
        "Definition: The mode is the value that appears most frequently in a dataset. A dataset may have one mode, more than one, or none.\n",
        "\n",
        "Example: In the dataset 1, 2, 2, 3, 4, the mode is 2."
      ],
      "metadata": {
        "id": "yQ-_wfmIXksr"
      }
    },
    {
      "cell_type": "markdown",
      "source": [
        "#Q3. Manual Calculation of Mean, Median, and Mode\n"
      ],
      "metadata": {
        "id": "3-JPOpnqXkp7"
      }
    },
    {
      "cell_type": "markdown",
      "source": [
        "#Problem:\n",
        " Given the dataset:\n",
        " 12, 18, 14, 16, 18, 20, 18, 15, 12, 18, 14, 16, 18, 20, 18, 15\n",
        "\n",
        "Calculate:\n",
        "\n",
        "a) Mean\n",
        "\n",
        "\n",
        "b) Median\n",
        "\n",
        "\n",
        "c) Mode\n"
      ],
      "metadata": {
        "id": "r4DHRBGRY01p"
      }
    },
    {
      "cell_type": "markdown",
      "source": [
        "#Solution"
      ],
      "metadata": {
        "id": "M4T8gwjhXknL"
      }
    },
    {
      "cell_type": "markdown",
      "source": [
        "Solution 1:"
      ],
      "metadata": {
        "id": "IFF_FksTVn0u"
      }
    },
    {
      "cell_type": "code",
      "source": [
        "Sum= 12 + 18 + 14 + 16 + 18 + 20 + 18 + 15 + 12 + 18 + 14 + 16 + 18 + 20 + 18 + 15\n",
        "print(Sum)"
      ],
      "metadata": {
        "colab": {
          "base_uri": "https://localhost:8080/"
        },
        "id": "6B4KW1f0ZZWT",
        "outputId": "465a7486-0ead-4fc2-8a56-50e4518f148c"
      },
      "execution_count": null,
      "outputs": [
        {
          "output_type": "stream",
          "name": "stdout",
          "text": [
            "262\n"
          ]
        }
      ]
    },
    {
      "cell_type": "code",
      "source": [
        "cnt=len([12, 18, 14, 16, 18, 20, 18, 15, 12, 18, 14, 16, 18, 20, 18, 15])\n",
        "print(cnt)"
      ],
      "metadata": {
        "colab": {
          "base_uri": "https://localhost:8080/"
        },
        "id": "hd7nTgrMZjtn",
        "outputId": "dd07479e-447b-4a47-cd56-ac33b8802248"
      },
      "execution_count": null,
      "outputs": [
        {
          "output_type": "stream",
          "name": "stdout",
          "text": [
            "16\n"
          ]
        }
      ]
    },
    {
      "cell_type": "code",
      "source": [
        "mean_num=Sum/cnt\n",
        "print(mean_num)"
      ],
      "metadata": {
        "colab": {
          "base_uri": "https://localhost:8080/"
        },
        "id": "sb1xgqxaZxa6",
        "outputId": "1df7013b-71be-43d2-b0ab-90c37df0d93b"
      },
      "execution_count": null,
      "outputs": [
        {
          "output_type": "stream",
          "name": "stdout",
          "text": [
            "16.375\n"
          ]
        }
      ]
    },
    {
      "cell_type": "markdown",
      "source": [
        "Solution 2:"
      ],
      "metadata": {
        "id": "aH42HBf-VsTE"
      }
    },
    {
      "cell_type": "code",
      "source": [
        "mean_n=statistics.mean([12, 18, 14, 16, 18, 20, 18, 15, 12, 18, 14, 16, 18, 20, 18, 15])\n",
        "median_n=statistics.median([12, 18, 14, 16, 18, 20, 18, 15, 12, 18, 14, 16, 18, 20, 18, 15])\n",
        "mode_n=statistics.mode([12, 18, 14, 16, 18, 20, 18, 15, 12, 18, 14, 16, 18, 20, 18, 15])\n",
        "print(mean_n)\n",
        "print(median_n)\n",
        "print(mode_n)"
      ],
      "metadata": {
        "colab": {
          "base_uri": "https://localhost:8080/"
        },
        "id": "fZ1MmkiNaeJ6",
        "outputId": "65d6f1fd-b5cb-499c-b781-4ffe13260e16"
      },
      "execution_count": 5,
      "outputs": [
        {
          "output_type": "stream",
          "name": "stdout",
          "text": [
            "16.375\n",
            "17.0\n",
            "18\n"
          ]
        }
      ]
    },
    {
      "cell_type": "markdown",
      "source": [
        "Solution 3:"
      ],
      "metadata": {
        "id": "vFW852SnVwpN"
      }
    },
    {
      "cell_type": "code",
      "source": [
        "pd.DataFrame([12, 18, 14, 16, 18, 20, 18, 15, 12, 18, 14, 16, 18, 20, 18, 15]).describe()"
      ],
      "metadata": {
        "colab": {
          "base_uri": "https://localhost:8080/",
          "height": 300
        },
        "id": "j8QEXTiPb-Ck",
        "outputId": "1c1b8205-9a2f-4b4e-9ebf-e98de8cabe8f"
      },
      "execution_count": 6,
      "outputs": [
        {
          "output_type": "execute_result",
          "data": {
            "text/plain": [
              "               0\n",
              "count  16.000000\n",
              "mean   16.375000\n",
              "std     2.526526\n",
              "min    12.000000\n",
              "25%    14.750000\n",
              "50%    17.000000\n",
              "75%    18.000000\n",
              "max    20.000000"
            ],
            "text/html": [
              "\n",
              "  <div id=\"df-4fbdf476-5cf0-4546-89af-36d2f076a7d3\" class=\"colab-df-container\">\n",
              "    <div>\n",
              "<style scoped>\n",
              "    .dataframe tbody tr th:only-of-type {\n",
              "        vertical-align: middle;\n",
              "    }\n",
              "\n",
              "    .dataframe tbody tr th {\n",
              "        vertical-align: top;\n",
              "    }\n",
              "\n",
              "    .dataframe thead th {\n",
              "        text-align: right;\n",
              "    }\n",
              "</style>\n",
              "<table border=\"1\" class=\"dataframe\">\n",
              "  <thead>\n",
              "    <tr style=\"text-align: right;\">\n",
              "      <th></th>\n",
              "      <th>0</th>\n",
              "    </tr>\n",
              "  </thead>\n",
              "  <tbody>\n",
              "    <tr>\n",
              "      <th>count</th>\n",
              "      <td>16.000000</td>\n",
              "    </tr>\n",
              "    <tr>\n",
              "      <th>mean</th>\n",
              "      <td>16.375000</td>\n",
              "    </tr>\n",
              "    <tr>\n",
              "      <th>std</th>\n",
              "      <td>2.526526</td>\n",
              "    </tr>\n",
              "    <tr>\n",
              "      <th>min</th>\n",
              "      <td>12.000000</td>\n",
              "    </tr>\n",
              "    <tr>\n",
              "      <th>25%</th>\n",
              "      <td>14.750000</td>\n",
              "    </tr>\n",
              "    <tr>\n",
              "      <th>50%</th>\n",
              "      <td>17.000000</td>\n",
              "    </tr>\n",
              "    <tr>\n",
              "      <th>75%</th>\n",
              "      <td>18.000000</td>\n",
              "    </tr>\n",
              "    <tr>\n",
              "      <th>max</th>\n",
              "      <td>20.000000</td>\n",
              "    </tr>\n",
              "  </tbody>\n",
              "</table>\n",
              "</div>\n",
              "    <div class=\"colab-df-buttons\">\n",
              "\n",
              "  <div class=\"colab-df-container\">\n",
              "    <button class=\"colab-df-convert\" onclick=\"convertToInteractive('df-4fbdf476-5cf0-4546-89af-36d2f076a7d3')\"\n",
              "            title=\"Convert this dataframe to an interactive table.\"\n",
              "            style=\"display:none;\">\n",
              "\n",
              "  <svg xmlns=\"http://www.w3.org/2000/svg\" height=\"24px\" viewBox=\"0 -960 960 960\">\n",
              "    <path d=\"M120-120v-720h720v720H120Zm60-500h600v-160H180v160Zm220 220h160v-160H400v160Zm0 220h160v-160H400v160ZM180-400h160v-160H180v160Zm440 0h160v-160H620v160ZM180-180h160v-160H180v160Zm440 0h160v-160H620v160Z\"/>\n",
              "  </svg>\n",
              "    </button>\n",
              "\n",
              "  <style>\n",
              "    .colab-df-container {\n",
              "      display:flex;\n",
              "      gap: 12px;\n",
              "    }\n",
              "\n",
              "    .colab-df-convert {\n",
              "      background-color: #E8F0FE;\n",
              "      border: none;\n",
              "      border-radius: 50%;\n",
              "      cursor: pointer;\n",
              "      display: none;\n",
              "      fill: #1967D2;\n",
              "      height: 32px;\n",
              "      padding: 0 0 0 0;\n",
              "      width: 32px;\n",
              "    }\n",
              "\n",
              "    .colab-df-convert:hover {\n",
              "      background-color: #E2EBFA;\n",
              "      box-shadow: 0px 1px 2px rgba(60, 64, 67, 0.3), 0px 1px 3px 1px rgba(60, 64, 67, 0.15);\n",
              "      fill: #174EA6;\n",
              "    }\n",
              "\n",
              "    .colab-df-buttons div {\n",
              "      margin-bottom: 4px;\n",
              "    }\n",
              "\n",
              "    [theme=dark] .colab-df-convert {\n",
              "      background-color: #3B4455;\n",
              "      fill: #D2E3FC;\n",
              "    }\n",
              "\n",
              "    [theme=dark] .colab-df-convert:hover {\n",
              "      background-color: #434B5C;\n",
              "      box-shadow: 0px 1px 3px 1px rgba(0, 0, 0, 0.15);\n",
              "      filter: drop-shadow(0px 1px 2px rgba(0, 0, 0, 0.3));\n",
              "      fill: #FFFFFF;\n",
              "    }\n",
              "  </style>\n",
              "\n",
              "    <script>\n",
              "      const buttonEl =\n",
              "        document.querySelector('#df-4fbdf476-5cf0-4546-89af-36d2f076a7d3 button.colab-df-convert');\n",
              "      buttonEl.style.display =\n",
              "        google.colab.kernel.accessAllowed ? 'block' : 'none';\n",
              "\n",
              "      async function convertToInteractive(key) {\n",
              "        const element = document.querySelector('#df-4fbdf476-5cf0-4546-89af-36d2f076a7d3');\n",
              "        const dataTable =\n",
              "          await google.colab.kernel.invokeFunction('convertToInteractive',\n",
              "                                                    [key], {});\n",
              "        if (!dataTable) return;\n",
              "\n",
              "        const docLinkHtml = 'Like what you see? Visit the ' +\n",
              "          '<a target=\"_blank\" href=https://colab.research.google.com/notebooks/data_table.ipynb>data table notebook</a>'\n",
              "          + ' to learn more about interactive tables.';\n",
              "        element.innerHTML = '';\n",
              "        dataTable['output_type'] = 'display_data';\n",
              "        await google.colab.output.renderOutput(dataTable, element);\n",
              "        const docLink = document.createElement('div');\n",
              "        docLink.innerHTML = docLinkHtml;\n",
              "        element.appendChild(docLink);\n",
              "      }\n",
              "    </script>\n",
              "  </div>\n",
              "\n",
              "\n",
              "    <div id=\"df-a1de04d1-d2eb-4374-8944-213d8ac18ec7\">\n",
              "      <button class=\"colab-df-quickchart\" onclick=\"quickchart('df-a1de04d1-d2eb-4374-8944-213d8ac18ec7')\"\n",
              "                title=\"Suggest charts\"\n",
              "                style=\"display:none;\">\n",
              "\n",
              "<svg xmlns=\"http://www.w3.org/2000/svg\" height=\"24px\"viewBox=\"0 0 24 24\"\n",
              "     width=\"24px\">\n",
              "    <g>\n",
              "        <path d=\"M19 3H5c-1.1 0-2 .9-2 2v14c0 1.1.9 2 2 2h14c1.1 0 2-.9 2-2V5c0-1.1-.9-2-2-2zM9 17H7v-7h2v7zm4 0h-2V7h2v10zm4 0h-2v-4h2v4z\"/>\n",
              "    </g>\n",
              "</svg>\n",
              "      </button>\n",
              "\n",
              "<style>\n",
              "  .colab-df-quickchart {\n",
              "      --bg-color: #E8F0FE;\n",
              "      --fill-color: #1967D2;\n",
              "      --hover-bg-color: #E2EBFA;\n",
              "      --hover-fill-color: #174EA6;\n",
              "      --disabled-fill-color: #AAA;\n",
              "      --disabled-bg-color: #DDD;\n",
              "  }\n",
              "\n",
              "  [theme=dark] .colab-df-quickchart {\n",
              "      --bg-color: #3B4455;\n",
              "      --fill-color: #D2E3FC;\n",
              "      --hover-bg-color: #434B5C;\n",
              "      --hover-fill-color: #FFFFFF;\n",
              "      --disabled-bg-color: #3B4455;\n",
              "      --disabled-fill-color: #666;\n",
              "  }\n",
              "\n",
              "  .colab-df-quickchart {\n",
              "    background-color: var(--bg-color);\n",
              "    border: none;\n",
              "    border-radius: 50%;\n",
              "    cursor: pointer;\n",
              "    display: none;\n",
              "    fill: var(--fill-color);\n",
              "    height: 32px;\n",
              "    padding: 0;\n",
              "    width: 32px;\n",
              "  }\n",
              "\n",
              "  .colab-df-quickchart:hover {\n",
              "    background-color: var(--hover-bg-color);\n",
              "    box-shadow: 0 1px 2px rgba(60, 64, 67, 0.3), 0 1px 3px 1px rgba(60, 64, 67, 0.15);\n",
              "    fill: var(--button-hover-fill-color);\n",
              "  }\n",
              "\n",
              "  .colab-df-quickchart-complete:disabled,\n",
              "  .colab-df-quickchart-complete:disabled:hover {\n",
              "    background-color: var(--disabled-bg-color);\n",
              "    fill: var(--disabled-fill-color);\n",
              "    box-shadow: none;\n",
              "  }\n",
              "\n",
              "  .colab-df-spinner {\n",
              "    border: 2px solid var(--fill-color);\n",
              "    border-color: transparent;\n",
              "    border-bottom-color: var(--fill-color);\n",
              "    animation:\n",
              "      spin 1s steps(1) infinite;\n",
              "  }\n",
              "\n",
              "  @keyframes spin {\n",
              "    0% {\n",
              "      border-color: transparent;\n",
              "      border-bottom-color: var(--fill-color);\n",
              "      border-left-color: var(--fill-color);\n",
              "    }\n",
              "    20% {\n",
              "      border-color: transparent;\n",
              "      border-left-color: var(--fill-color);\n",
              "      border-top-color: var(--fill-color);\n",
              "    }\n",
              "    30% {\n",
              "      border-color: transparent;\n",
              "      border-left-color: var(--fill-color);\n",
              "      border-top-color: var(--fill-color);\n",
              "      border-right-color: var(--fill-color);\n",
              "    }\n",
              "    40% {\n",
              "      border-color: transparent;\n",
              "      border-right-color: var(--fill-color);\n",
              "      border-top-color: var(--fill-color);\n",
              "    }\n",
              "    60% {\n",
              "      border-color: transparent;\n",
              "      border-right-color: var(--fill-color);\n",
              "    }\n",
              "    80% {\n",
              "      border-color: transparent;\n",
              "      border-right-color: var(--fill-color);\n",
              "      border-bottom-color: var(--fill-color);\n",
              "    }\n",
              "    90% {\n",
              "      border-color: transparent;\n",
              "      border-bottom-color: var(--fill-color);\n",
              "    }\n",
              "  }\n",
              "</style>\n",
              "\n",
              "      <script>\n",
              "        async function quickchart(key) {\n",
              "          const quickchartButtonEl =\n",
              "            document.querySelector('#' + key + ' button');\n",
              "          quickchartButtonEl.disabled = true;  // To prevent multiple clicks.\n",
              "          quickchartButtonEl.classList.add('colab-df-spinner');\n",
              "          try {\n",
              "            const charts = await google.colab.kernel.invokeFunction(\n",
              "                'suggestCharts', [key], {});\n",
              "          } catch (error) {\n",
              "            console.error('Error during call to suggestCharts:', error);\n",
              "          }\n",
              "          quickchartButtonEl.classList.remove('colab-df-spinner');\n",
              "          quickchartButtonEl.classList.add('colab-df-quickchart-complete');\n",
              "        }\n",
              "        (() => {\n",
              "          let quickchartButtonEl =\n",
              "            document.querySelector('#df-a1de04d1-d2eb-4374-8944-213d8ac18ec7 button');\n",
              "          quickchartButtonEl.style.display =\n",
              "            google.colab.kernel.accessAllowed ? 'block' : 'none';\n",
              "        })();\n",
              "      </script>\n",
              "    </div>\n",
              "\n",
              "    </div>\n",
              "  </div>\n"
            ],
            "application/vnd.google.colaboratory.intrinsic+json": {
              "type": "dataframe",
              "summary": "{\n  \"name\": \"pd\",\n  \"rows\": 8,\n  \"fields\": [\n    {\n      \"column\": 0,\n      \"properties\": {\n        \"dtype\": \"number\",\n        \"std\": 5.400253238397672,\n        \"min\": 2.526525941551627,\n        \"max\": 20.0,\n        \"num_unique_values\": 8,\n        \"samples\": [\n          16.375,\n          17.0,\n          16.0\n        ],\n        \"semantic_type\": \"\",\n        \"description\": \"\"\n      }\n    }\n  ]\n}"
            }
          },
          "metadata": {},
          "execution_count": 6
        }
      ]
    },
    {
      "cell_type": "code",
      "source": [
        "pd.DataFrame([12, 18, 14, 16, 18, 20, 18, 15, 12, 18, 14, 16, 18, 20, 18, 15]).mode()"
      ],
      "metadata": {
        "colab": {
          "base_uri": "https://localhost:8080/",
          "height": 81
        },
        "id": "og6fGNUZcQmB",
        "outputId": "02a1b2aa-7b03-4b4f-f2bd-7f3fce8d63ff"
      },
      "execution_count": null,
      "outputs": [
        {
          "output_type": "execute_result",
          "data": {
            "text/plain": [
              "    0\n",
              "0  18"
            ],
            "text/html": [
              "\n",
              "  <div id=\"df-8b855acd-93ed-4700-a30d-b8c52c08f476\" class=\"colab-df-container\">\n",
              "    <div>\n",
              "<style scoped>\n",
              "    .dataframe tbody tr th:only-of-type {\n",
              "        vertical-align: middle;\n",
              "    }\n",
              "\n",
              "    .dataframe tbody tr th {\n",
              "        vertical-align: top;\n",
              "    }\n",
              "\n",
              "    .dataframe thead th {\n",
              "        text-align: right;\n",
              "    }\n",
              "</style>\n",
              "<table border=\"1\" class=\"dataframe\">\n",
              "  <thead>\n",
              "    <tr style=\"text-align: right;\">\n",
              "      <th></th>\n",
              "      <th>0</th>\n",
              "    </tr>\n",
              "  </thead>\n",
              "  <tbody>\n",
              "    <tr>\n",
              "      <th>0</th>\n",
              "      <td>18</td>\n",
              "    </tr>\n",
              "  </tbody>\n",
              "</table>\n",
              "</div>\n",
              "    <div class=\"colab-df-buttons\">\n",
              "\n",
              "  <div class=\"colab-df-container\">\n",
              "    <button class=\"colab-df-convert\" onclick=\"convertToInteractive('df-8b855acd-93ed-4700-a30d-b8c52c08f476')\"\n",
              "            title=\"Convert this dataframe to an interactive table.\"\n",
              "            style=\"display:none;\">\n",
              "\n",
              "  <svg xmlns=\"http://www.w3.org/2000/svg\" height=\"24px\" viewBox=\"0 -960 960 960\">\n",
              "    <path d=\"M120-120v-720h720v720H120Zm60-500h600v-160H180v160Zm220 220h160v-160H400v160Zm0 220h160v-160H400v160ZM180-400h160v-160H180v160Zm440 0h160v-160H620v160ZM180-180h160v-160H180v160Zm440 0h160v-160H620v160Z\"/>\n",
              "  </svg>\n",
              "    </button>\n",
              "\n",
              "  <style>\n",
              "    .colab-df-container {\n",
              "      display:flex;\n",
              "      gap: 12px;\n",
              "    }\n",
              "\n",
              "    .colab-df-convert {\n",
              "      background-color: #E8F0FE;\n",
              "      border: none;\n",
              "      border-radius: 50%;\n",
              "      cursor: pointer;\n",
              "      display: none;\n",
              "      fill: #1967D2;\n",
              "      height: 32px;\n",
              "      padding: 0 0 0 0;\n",
              "      width: 32px;\n",
              "    }\n",
              "\n",
              "    .colab-df-convert:hover {\n",
              "      background-color: #E2EBFA;\n",
              "      box-shadow: 0px 1px 2px rgba(60, 64, 67, 0.3), 0px 1px 3px 1px rgba(60, 64, 67, 0.15);\n",
              "      fill: #174EA6;\n",
              "    }\n",
              "\n",
              "    .colab-df-buttons div {\n",
              "      margin-bottom: 4px;\n",
              "    }\n",
              "\n",
              "    [theme=dark] .colab-df-convert {\n",
              "      background-color: #3B4455;\n",
              "      fill: #D2E3FC;\n",
              "    }\n",
              "\n",
              "    [theme=dark] .colab-df-convert:hover {\n",
              "      background-color: #434B5C;\n",
              "      box-shadow: 0px 1px 3px 1px rgba(0, 0, 0, 0.15);\n",
              "      filter: drop-shadow(0px 1px 2px rgba(0, 0, 0, 0.3));\n",
              "      fill: #FFFFFF;\n",
              "    }\n",
              "  </style>\n",
              "\n",
              "    <script>\n",
              "      const buttonEl =\n",
              "        document.querySelector('#df-8b855acd-93ed-4700-a30d-b8c52c08f476 button.colab-df-convert');\n",
              "      buttonEl.style.display =\n",
              "        google.colab.kernel.accessAllowed ? 'block' : 'none';\n",
              "\n",
              "      async function convertToInteractive(key) {\n",
              "        const element = document.querySelector('#df-8b855acd-93ed-4700-a30d-b8c52c08f476');\n",
              "        const dataTable =\n",
              "          await google.colab.kernel.invokeFunction('convertToInteractive',\n",
              "                                                    [key], {});\n",
              "        if (!dataTable) return;\n",
              "\n",
              "        const docLinkHtml = 'Like what you see? Visit the ' +\n",
              "          '<a target=\"_blank\" href=https://colab.research.google.com/notebooks/data_table.ipynb>data table notebook</a>'\n",
              "          + ' to learn more about interactive tables.';\n",
              "        element.innerHTML = '';\n",
              "        dataTable['output_type'] = 'display_data';\n",
              "        await google.colab.output.renderOutput(dataTable, element);\n",
              "        const docLink = document.createElement('div');\n",
              "        docLink.innerHTML = docLinkHtml;\n",
              "        element.appendChild(docLink);\n",
              "      }\n",
              "    </script>\n",
              "  </div>\n",
              "\n",
              "\n",
              "    </div>\n",
              "  </div>\n"
            ],
            "application/vnd.google.colaboratory.intrinsic+json": {
              "type": "dataframe",
              "summary": "{\n  \"name\": \"pd\",\n  \"rows\": 1,\n  \"fields\": [\n    {\n      \"column\": 0,\n      \"properties\": {\n        \"dtype\": \"number\",\n        \"std\": null,\n        \"min\": 18,\n        \"max\": 18,\n        \"num_unique_values\": 1,\n        \"samples\": [\n          18\n        ],\n        \"semantic_type\": \"\",\n        \"description\": \"\"\n      }\n    }\n  ]\n}"
            }
          },
          "metadata": {},
          "execution_count": 11
        }
      ]
    },
    {
      "cell_type": "markdown",
      "source": [
        "#Q4. Levels of Measurement\n"
      ],
      "metadata": {
        "id": "HWMCfaOCYtfw"
      }
    },
    {
      "cell_type": "markdown",
      "source": [
        "#Problem:\n",
        "Define and give one example for each level of measurement:\n",
        "\n",
        "a) Nominal\n",
        "\n",
        "\n",
        "b) Ordinal\n",
        "\n",
        "\n",
        "c) Interval\n",
        "\n",
        "\n",
        "d) Ratio\n"
      ],
      "metadata": {
        "id": "qlGqqXBPYtd5"
      }
    },
    {
      "cell_type": "markdown",
      "source": [
        "#Solution"
      ],
      "metadata": {
        "id": "4OwU_3_5YtbZ"
      }
    },
    {
      "cell_type": "markdown",
      "source": [
        "**a) Nominal**\n",
        "\n",
        "Definition: This level categorizes data without any order or ranking. Values are labels or names.\n",
        "\n",
        "Example: Eye color — blue, brown, green.\n",
        "\n",
        "**b) Ordinal**\n",
        "\n",
        "Definition: Data is categorized with a meaningful order or rank, but the differences between values are not measurable.\n",
        "\n",
        "Example: Customer satisfaction rating — poor, fair, good, excellent.\n",
        "\n",
        "**c) Interval**\n",
        "\n",
        "Definition: Ordered data with equal intervals between values, but no true zero point.\n",
        "\n",
        "Example: Temperature in Celsius — the difference between 20°C and 30°C is meaningful, but 0°C is not the absence of temperature.\n",
        "\n",
        "**d) Ratio**\n",
        "\n",
        "Definition: Similar to interval level, but includes a true zero, allowing for meaningful ratios.\n",
        "\n",
        "Example: Weight — 0 kg means no weight, and 20 kg is twice as heavy as 10 kg."
      ],
      "metadata": {
        "id": "oYASxy8ZYtY9"
      }
    },
    {
      "cell_type": "markdown",
      "source": [
        "*Nominal and Ordinal both are categorical values*\n",
        "*ordered categorical is ordinal*\n",
        "*non ordered is nominal*"
      ],
      "metadata": {
        "id": "NVVpLJ8nYtWA"
      }
    },
    {
      "cell_type": "markdown",
      "source": [
        "#Q5. Variance and Standard Deviation - Theory\n"
      ],
      "metadata": {
        "id": "GqCsd-otd-4F"
      }
    },
    {
      "cell_type": "markdown",
      "source": [
        "#Problem:\n",
        "a) Define Variance and Standard Deviation.\n",
        "\n",
        "\n",
        "b) Explain why Standard Deviation is more interpretable than Variance.\n"
      ],
      "metadata": {
        "id": "EWHC81hid-0p"
      }
    },
    {
      "cell_type": "markdown",
      "source": [
        "#Solution"
      ],
      "metadata": {
        "id": "KWLw40LwYDJ0"
      }
    },
    {
      "cell_type": "markdown",
      "source": [
        "![image.png](data:image/png;base64,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)\n"
      ],
      "metadata": {
        "id": "lVvsHVzId-vd"
      }
    },
    {
      "cell_type": "markdown",
      "source": [
        "**Variance Example**:\n",
        "\n",
        "Imagine two classes of students taking a test:\n",
        "\n",
        "Class A: Scores: 80, 85, 90, 95, 100\n",
        "\n",
        "Class B: Scores: 50, 60, 70, 90, 100\n",
        "\n",
        "Class A has scores that are close to each other, while Class B has scores that vary more widely. The variance for Class B will be higher because the scores are more spread out from the average.\n",
        "\n",
        "**Standard deviation Example**:\n",
        "\n",
        "Using the same two classes:\n",
        "\n",
        "Class A: The average score is 90, and the standard deviation might be 5, meaning most scores are within 5 points of the average.\n",
        "\n",
        "Class B: The average score is 70, but the standard deviation could be 20, meaning the scores are more spread out and vary by about 20 points from the average."
      ],
      "metadata": {
        "id": "XUCk-ZiMXIHZ"
      }
    },
    {
      "cell_type": "markdown",
      "source": [
        "**Interpretation:**\n",
        "\n",
        "A higher variance means the data points are more spread out.\n",
        "\n",
        "A lower variance indicates they are closer to the mean.\n",
        "\n",
        "If the standard deviation is small, data points are close to the mean.\n",
        "\n",
        "If it’s large, the data points are widely spread."
      ],
      "metadata": {
        "id": "TCjP8RTrWtRI"
      }
    },
    {
      "cell_type": "markdown",
      "source": [
        "*Variance is accurate value*\n",
        "\n",
        "*Standard deviation is approximate value*"
      ],
      "metadata": {
        "id": "gj8BJxSAipJ4"
      }
    },
    {
      "cell_type": "markdown",
      "source": [
        "**Why Standard Deviation is More Interpretable than Variance**\n",
        "\n",
        "Standard deviation is in the same unit as the original data, while variance is in squared units, making standard deviation easier to understand and compare.\n",
        "\n",
        "Direct Interpretation: A smaller standard deviation directly implies that the data is closely clustered around the mean, while a larger value indicates greater spread. This makes it more intuitive in practical use cases like finance, science, and quality control.\n",
        "\n",
        "**Example:**\n",
        "\n",
        "If you're measuring the height of students in a class in centimeters:\n",
        "\n",
        "If the standard deviation is 5 cm, you can say, \"On average, students' heights differ by 5 cm from the average height.\"\n",
        "\n",
        "If the variance is 25 cm², it's not as easy to understand because it's in square centimeters, which doesn't directly relate to height.\n",
        "\n",
        "So, standard deviation is more user-friendly because it gives a direct sense of the spread in the same units as the data."
      ],
      "metadata": {
        "id": "k3ov1cgPd-sp"
      }
    },
    {
      "cell_type": "markdown",
      "source": [
        "#Q6. Manual Calculation - Variance and Standard Deviation"
      ],
      "metadata": {
        "id": "Uuy2bxcz1bL3"
      }
    },
    {
      "cell_type": "markdown",
      "source": [
        "#Problem:\n",
        " Given the data:\n",
        " 8, 10, 12, 14, 16, 10, 12, 14, 16\n",
        "\n",
        "Calculate:\n",
        "\n",
        "●\ta) Sample Variance\n",
        "\n",
        "●\tb) Sample Standard Deviation\n",
        "\n"
      ],
      "metadata": {
        "id": "aILcz7g81bIZ"
      }
    },
    {
      "cell_type": "markdown",
      "source": [
        "#Solution"
      ],
      "metadata": {
        "id": "gB2bXPqdX-Hm"
      }
    },
    {
      "cell_type": "markdown",
      "source": [
        "Solution 1:"
      ],
      "metadata": {
        "id": "mK49ybAlZjlU"
      }
    },
    {
      "cell_type": "code",
      "source": [
        "var_n=statistics.variance([8, 10, 12, 14, 16, 10, 12, 14, 16])\n",
        "print(f\"Sample Variance is {var_n}\")\n",
        "stddev_n=statistics.stdev([8, 10, 12, 14, 16, 10, 12, 14, 16])\n",
        "print(f\"Sample Standard Deviation is {stddev_n}\")"
      ],
      "metadata": {
        "id": "DozWpDIxdP1E",
        "colab": {
          "base_uri": "https://localhost:8080/"
        },
        "outputId": "f627067a-54ed-48d6-e93f-d539dd12a64f"
      },
      "execution_count": 3,
      "outputs": [
        {
          "output_type": "stream",
          "name": "stdout",
          "text": [
            "Sample Variance is 7.777777777777778\n",
            "Sample Standard Deviation is 2.788866755113585\n"
          ]
        }
      ]
    },
    {
      "cell_type": "markdown",
      "source": [
        "Solution 2:"
      ],
      "metadata": {
        "id": "lfQDd8iMZm3l"
      }
    },
    {
      "cell_type": "code",
      "source": [
        "data = np.array([8, 10, 12, 14, 16, 10, 12, 14, 16])\n",
        "std_dev = np.std(data) # Population std dev by default\n",
        "sample_std_dev = np.std(data, ddof=1) # Sample std dev\n",
        "print(f\"Population Standard Deviation: {std_dev}\")\n",
        "print(f\"Sample Standard Deviation: {sample_std_dev}\")\n",
        "variance = np.var(data,ddof=1)\n",
        "print(f\"Variance: {variance}\")"
      ],
      "metadata": {
        "colab": {
          "base_uri": "https://localhost:8080/"
        },
        "id": "Kn9kydqU2wyi",
        "outputId": "0d4c0943-78bd-404a-cab1-1216984e0aab"
      },
      "execution_count": 7,
      "outputs": [
        {
          "output_type": "stream",
          "name": "stdout",
          "text": [
            "Population Standard Deviation: 2.629368792488718\n",
            "Sample Standard Deviation: 2.7888667551135855\n",
            "Variance: 7.777777777777779\n"
          ]
        }
      ]
    },
    {
      "cell_type": "code",
      "source": [
        "pd.DataFrame(data).describe()"
      ],
      "metadata": {
        "colab": {
          "base_uri": "https://localhost:8080/",
          "height": 300
        },
        "id": "dWZnuXS133tU",
        "outputId": "e1de8e9f-0b11-4186-b6ee-634c937568a4"
      },
      "execution_count": null,
      "outputs": [
        {
          "output_type": "execute_result",
          "data": {
            "text/plain": [
              "               0\n",
              "count   9.000000\n",
              "mean   12.444444\n",
              "std     2.788867\n",
              "min     8.000000\n",
              "25%    10.000000\n",
              "50%    12.000000\n",
              "75%    14.000000\n",
              "max    16.000000"
            ],
            "text/html": [
              "\n",
              "  <div id=\"df-50dea467-6b8d-46fa-a36a-4cee6730a34d\" class=\"colab-df-container\">\n",
              "    <div>\n",
              "<style scoped>\n",
              "    .dataframe tbody tr th:only-of-type {\n",
              "        vertical-align: middle;\n",
              "    }\n",
              "\n",
              "    .dataframe tbody tr th {\n",
              "        vertical-align: top;\n",
              "    }\n",
              "\n",
              "    .dataframe thead th {\n",
              "        text-align: right;\n",
              "    }\n",
              "</style>\n",
              "<table border=\"1\" class=\"dataframe\">\n",
              "  <thead>\n",
              "    <tr style=\"text-align: right;\">\n",
              "      <th></th>\n",
              "      <th>0</th>\n",
              "    </tr>\n",
              "  </thead>\n",
              "  <tbody>\n",
              "    <tr>\n",
              "      <th>count</th>\n",
              "      <td>9.000000</td>\n",
              "    </tr>\n",
              "    <tr>\n",
              "      <th>mean</th>\n",
              "      <td>12.444444</td>\n",
              "    </tr>\n",
              "    <tr>\n",
              "      <th>std</th>\n",
              "      <td>2.788867</td>\n",
              "    </tr>\n",
              "    <tr>\n",
              "      <th>min</th>\n",
              "      <td>8.000000</td>\n",
              "    </tr>\n",
              "    <tr>\n",
              "      <th>25%</th>\n",
              "      <td>10.000000</td>\n",
              "    </tr>\n",
              "    <tr>\n",
              "      <th>50%</th>\n",
              "      <td>12.000000</td>\n",
              "    </tr>\n",
              "    <tr>\n",
              "      <th>75%</th>\n",
              "      <td>14.000000</td>\n",
              "    </tr>\n",
              "    <tr>\n",
              "      <th>max</th>\n",
              "      <td>16.000000</td>\n",
              "    </tr>\n",
              "  </tbody>\n",
              "</table>\n",
              "</div>\n",
              "    <div class=\"colab-df-buttons\">\n",
              "\n",
              "  <div class=\"colab-df-container\">\n",
              "    <button class=\"colab-df-convert\" onclick=\"convertToInteractive('df-50dea467-6b8d-46fa-a36a-4cee6730a34d')\"\n",
              "            title=\"Convert this dataframe to an interactive table.\"\n",
              "            style=\"display:none;\">\n",
              "\n",
              "  <svg xmlns=\"http://www.w3.org/2000/svg\" height=\"24px\" viewBox=\"0 -960 960 960\">\n",
              "    <path d=\"M120-120v-720h720v720H120Zm60-500h600v-160H180v160Zm220 220h160v-160H400v160Zm0 220h160v-160H400v160ZM180-400h160v-160H180v160Zm440 0h160v-160H620v160ZM180-180h160v-160H180v160Zm440 0h160v-160H620v160Z\"/>\n",
              "  </svg>\n",
              "    </button>\n",
              "\n",
              "  <style>\n",
              "    .colab-df-container {\n",
              "      display:flex;\n",
              "      gap: 12px;\n",
              "    }\n",
              "\n",
              "    .colab-df-convert {\n",
              "      background-color: #E8F0FE;\n",
              "      border: none;\n",
              "      border-radius: 50%;\n",
              "      cursor: pointer;\n",
              "      display: none;\n",
              "      fill: #1967D2;\n",
              "      height: 32px;\n",
              "      padding: 0 0 0 0;\n",
              "      width: 32px;\n",
              "    }\n",
              "\n",
              "    .colab-df-convert:hover {\n",
              "      background-color: #E2EBFA;\n",
              "      box-shadow: 0px 1px 2px rgba(60, 64, 67, 0.3), 0px 1px 3px 1px rgba(60, 64, 67, 0.15);\n",
              "      fill: #174EA6;\n",
              "    }\n",
              "\n",
              "    .colab-df-buttons div {\n",
              "      margin-bottom: 4px;\n",
              "    }\n",
              "\n",
              "    [theme=dark] .colab-df-convert {\n",
              "      background-color: #3B4455;\n",
              "      fill: #D2E3FC;\n",
              "    }\n",
              "\n",
              "    [theme=dark] .colab-df-convert:hover {\n",
              "      background-color: #434B5C;\n",
              "      box-shadow: 0px 1px 3px 1px rgba(0, 0, 0, 0.15);\n",
              "      filter: drop-shadow(0px 1px 2px rgba(0, 0, 0, 0.3));\n",
              "      fill: #FFFFFF;\n",
              "    }\n",
              "  </style>\n",
              "\n",
              "    <script>\n",
              "      const buttonEl =\n",
              "        document.querySelector('#df-50dea467-6b8d-46fa-a36a-4cee6730a34d button.colab-df-convert');\n",
              "      buttonEl.style.display =\n",
              "        google.colab.kernel.accessAllowed ? 'block' : 'none';\n",
              "\n",
              "      async function convertToInteractive(key) {\n",
              "        const element = document.querySelector('#df-50dea467-6b8d-46fa-a36a-4cee6730a34d');\n",
              "        const dataTable =\n",
              "          await google.colab.kernel.invokeFunction('convertToInteractive',\n",
              "                                                    [key], {});\n",
              "        if (!dataTable) return;\n",
              "\n",
              "        const docLinkHtml = 'Like what you see? Visit the ' +\n",
              "          '<a target=\"_blank\" href=https://colab.research.google.com/notebooks/data_table.ipynb>data table notebook</a>'\n",
              "          + ' to learn more about interactive tables.';\n",
              "        element.innerHTML = '';\n",
              "        dataTable['output_type'] = 'display_data';\n",
              "        await google.colab.output.renderOutput(dataTable, element);\n",
              "        const docLink = document.createElement('div');\n",
              "        docLink.innerHTML = docLinkHtml;\n",
              "        element.appendChild(docLink);\n",
              "      }\n",
              "    </script>\n",
              "  </div>\n",
              "\n",
              "\n",
              "    <div id=\"df-ea671a6e-0437-4d1d-9497-88bbce8bbc0b\">\n",
              "      <button class=\"colab-df-quickchart\" onclick=\"quickchart('df-ea671a6e-0437-4d1d-9497-88bbce8bbc0b')\"\n",
              "                title=\"Suggest charts\"\n",
              "                style=\"display:none;\">\n",
              "\n",
              "<svg xmlns=\"http://www.w3.org/2000/svg\" height=\"24px\"viewBox=\"0 0 24 24\"\n",
              "     width=\"24px\">\n",
              "    <g>\n",
              "        <path d=\"M19 3H5c-1.1 0-2 .9-2 2v14c0 1.1.9 2 2 2h14c1.1 0 2-.9 2-2V5c0-1.1-.9-2-2-2zM9 17H7v-7h2v7zm4 0h-2V7h2v10zm4 0h-2v-4h2v4z\"/>\n",
              "    </g>\n",
              "</svg>\n",
              "      </button>\n",
              "\n",
              "<style>\n",
              "  .colab-df-quickchart {\n",
              "      --bg-color: #E8F0FE;\n",
              "      --fill-color: #1967D2;\n",
              "      --hover-bg-color: #E2EBFA;\n",
              "      --hover-fill-color: #174EA6;\n",
              "      --disabled-fill-color: #AAA;\n",
              "      --disabled-bg-color: #DDD;\n",
              "  }\n",
              "\n",
              "  [theme=dark] .colab-df-quickchart {\n",
              "      --bg-color: #3B4455;\n",
              "      --fill-color: #D2E3FC;\n",
              "      --hover-bg-color: #434B5C;\n",
              "      --hover-fill-color: #FFFFFF;\n",
              "      --disabled-bg-color: #3B4455;\n",
              "      --disabled-fill-color: #666;\n",
              "  }\n",
              "\n",
              "  .colab-df-quickchart {\n",
              "    background-color: var(--bg-color);\n",
              "    border: none;\n",
              "    border-radius: 50%;\n",
              "    cursor: pointer;\n",
              "    display: none;\n",
              "    fill: var(--fill-color);\n",
              "    height: 32px;\n",
              "    padding: 0;\n",
              "    width: 32px;\n",
              "  }\n",
              "\n",
              "  .colab-df-quickchart:hover {\n",
              "    background-color: var(--hover-bg-color);\n",
              "    box-shadow: 0 1px 2px rgba(60, 64, 67, 0.3), 0 1px 3px 1px rgba(60, 64, 67, 0.15);\n",
              "    fill: var(--button-hover-fill-color);\n",
              "  }\n",
              "\n",
              "  .colab-df-quickchart-complete:disabled,\n",
              "  .colab-df-quickchart-complete:disabled:hover {\n",
              "    background-color: var(--disabled-bg-color);\n",
              "    fill: var(--disabled-fill-color);\n",
              "    box-shadow: none;\n",
              "  }\n",
              "\n",
              "  .colab-df-spinner {\n",
              "    border: 2px solid var(--fill-color);\n",
              "    border-color: transparent;\n",
              "    border-bottom-color: var(--fill-color);\n",
              "    animation:\n",
              "      spin 1s steps(1) infinite;\n",
              "  }\n",
              "\n",
              "  @keyframes spin {\n",
              "    0% {\n",
              "      border-color: transparent;\n",
              "      border-bottom-color: var(--fill-color);\n",
              "      border-left-color: var(--fill-color);\n",
              "    }\n",
              "    20% {\n",
              "      border-color: transparent;\n",
              "      border-left-color: var(--fill-color);\n",
              "      border-top-color: var(--fill-color);\n",
              "    }\n",
              "    30% {\n",
              "      border-color: transparent;\n",
              "      border-left-color: var(--fill-color);\n",
              "      border-top-color: var(--fill-color);\n",
              "      border-right-color: var(--fill-color);\n",
              "    }\n",
              "    40% {\n",
              "      border-color: transparent;\n",
              "      border-right-color: var(--fill-color);\n",
              "      border-top-color: var(--fill-color);\n",
              "    }\n",
              "    60% {\n",
              "      border-color: transparent;\n",
              "      border-right-color: var(--fill-color);\n",
              "    }\n",
              "    80% {\n",
              "      border-color: transparent;\n",
              "      border-right-color: var(--fill-color);\n",
              "      border-bottom-color: var(--fill-color);\n",
              "    }\n",
              "    90% {\n",
              "      border-color: transparent;\n",
              "      border-bottom-color: var(--fill-color);\n",
              "    }\n",
              "  }\n",
              "</style>\n",
              "\n",
              "      <script>\n",
              "        async function quickchart(key) {\n",
              "          const quickchartButtonEl =\n",
              "            document.querySelector('#' + key + ' button');\n",
              "          quickchartButtonEl.disabled = true;  // To prevent multiple clicks.\n",
              "          quickchartButtonEl.classList.add('colab-df-spinner');\n",
              "          try {\n",
              "            const charts = await google.colab.kernel.invokeFunction(\n",
              "                'suggestCharts', [key], {});\n",
              "          } catch (error) {\n",
              "            console.error('Error during call to suggestCharts:', error);\n",
              "          }\n",
              "          quickchartButtonEl.classList.remove('colab-df-spinner');\n",
              "          quickchartButtonEl.classList.add('colab-df-quickchart-complete');\n",
              "        }\n",
              "        (() => {\n",
              "          let quickchartButtonEl =\n",
              "            document.querySelector('#df-ea671a6e-0437-4d1d-9497-88bbce8bbc0b button');\n",
              "          quickchartButtonEl.style.display =\n",
              "            google.colab.kernel.accessAllowed ? 'block' : 'none';\n",
              "        })();\n",
              "      </script>\n",
              "    </div>\n",
              "\n",
              "    </div>\n",
              "  </div>\n"
            ],
            "application/vnd.google.colaboratory.intrinsic+json": {
              "type": "dataframe",
              "summary": "{\n  \"name\": \"pd\",\n  \"rows\": 8,\n  \"fields\": [\n    {\n      \"column\": 0,\n      \"properties\": {\n        \"dtype\": \"number\",\n        \"std\": 4.083689435747383,\n        \"min\": 2.7888667551135855,\n        \"max\": 16.0,\n        \"num_unique_values\": 8,\n        \"samples\": [\n          12.444444444444445,\n          12.0,\n          9.0\n        ],\n        \"semantic_type\": \"\",\n        \"description\": \"\"\n      }\n    }\n  ]\n}"
            }
          },
          "metadata": {},
          "execution_count": 6
        }
      ]
    },
    {
      "cell_type": "markdown",
      "source": [
        "***By Default population variance is taken if we want the sample variance then we have to provide the ddof value as 1***"
      ],
      "metadata": {
        "id": "VdlA31EgZ8kg"
      }
    },
    {
      "cell_type": "code",
      "source": [
        "import numpy as np\n",
        "\n",
        "data = [8, 10, 12, 14, 16, 10, 12, 14, 16]\n",
        "variance_d = np.var(data)\n",
        "variance_s = np.var(data,ddof=1)\n",
        "print(f\"Population variance by default:{variance_d}\")\n",
        "print(f\"Actual variance:{variance_s}\")"
      ],
      "metadata": {
        "colab": {
          "base_uri": "https://localhost:8080/"
        },
        "id": "_bnvzM6e5KAX",
        "outputId": "ec9e122c-bd2d-4c78-b6f4-883a274c48a3"
      },
      "execution_count": null,
      "outputs": [
        {
          "output_type": "stream",
          "name": "stdout",
          "text": [
            "Population variance by default:6.913580246913581\n",
            "Actual variance:7.777777777777779\n"
          ]
        }
      ]
    },
    {
      "cell_type": "markdown",
      "source": [
        "#Q7. Range and Interquartile Range (IQR)"
      ],
      "metadata": {
        "id": "h2gVInuGYtTX"
      }
    },
    {
      "cell_type": "markdown",
      "source": [
        "#Problem:\n",
        " Given the dataset:\n",
        " 22, 29, 25, 31, 35, 40, 45, 48, 50\n",
        "\n",
        "●\ta) Arrange data in ascending order\n",
        "\n",
        "●\tb) Calculate the Range\n",
        "\n",
        "●\tc) Find Q1, Q3, and IQR\n",
        "\n"
      ],
      "metadata": {
        "id": "g1Yo_YPTYtQi"
      }
    },
    {
      "cell_type": "markdown",
      "source": [
        "# Solution"
      ],
      "metadata": {
        "id": "CjSh7oZoaanA"
      }
    },
    {
      "cell_type": "code",
      "execution_count": null,
      "metadata": {
        "id": "eD7_HVimPgLs",
        "colab": {
          "base_uri": "https://localhost:8080/"
        },
        "outputId": "f8b17500-5c15-4ada-882a-99f493485a91"
      },
      "outputs": [
        {
          "output_type": "stream",
          "name": "stdout",
          "text": [
            "sorted data in ascending order: [22, 25, 29, 31, 35, 40, 45, 48, 50]\n",
            "The range of the data is: 28\n",
            "The Q1 is: 29.0\n",
            "The Q3 is: 45.0\n",
            "The IQR is: 16.0\n"
          ]
        }
      ],
      "source": [
        "data=[22, 29, 25, 31, 35, 40, 45, 48, 50]\n",
        "data.sort()\n",
        "print(f\"sorted data in ascending order: {data}\")\n",
        "\n",
        "min_val = min(data)\n",
        "max_val = max(data)\n",
        "range_val = max_val - min_val\n",
        "print(f\"The range of the data is: {range_val}\")\n",
        "\n",
        "q1 = np.percentile(data, 25)\n",
        "q3 = np.percentile(data, 75)\n",
        "iqr = q3 - q1\n",
        "print(f\"The Q1 is: {q1}\")\n",
        "print(f\"The Q3 is: {q3}\")\n",
        "print(f\"The IQR is: {iqr}\")"
      ]
    },
    {
      "cell_type": "markdown",
      "source": [
        "#Q8. Five-number Summary and Boxplot Concept"
      ],
      "metadata": {
        "id": "o7fO1TzW8ES3"
      }
    },
    {
      "cell_type": "markdown",
      "source": [
        "#Problem:\n",
        "●\tDefine the Five-number Summary and explain each component:\n",
        "\n",
        "○\tMinimum\n",
        "\n",
        "○\tQ1 (First Quartile)\n",
        "\n",
        "○\tMedian\n",
        "\n",
        "○\tQ3 (Third Quartile)\n",
        "\n",
        "○\tMaximum\n",
        "\n",
        "●\tDescribe how boxplots help in detecting outliers.\n",
        "\n"
      ],
      "metadata": {
        "id": "9WHMuDHf8EPW"
      }
    },
    {
      "cell_type": "markdown",
      "source": [
        "#Solution"
      ],
      "metadata": {
        "id": "yOUI2iQt8nWY"
      }
    },
    {
      "cell_type": "markdown",
      "source": [
        "**Five-Number Summary: Definition and Components**\n",
        "\n",
        "The Five-number summary is a concise statistical description of a dataset that provides insights into its distribution and spread. It consists of five key values:\n",
        "\n",
        "**1. Minimum**\n",
        "Definition: The smallest data point in the dataset.\n",
        "\n",
        "Purpose: Indicates the lower extreme of the data range.\n",
        "\n",
        "Example: In the dataset [4, 8, 15, 16, 23, 42], the minimum is 4.\n",
        "\n",
        "\n",
        "\n",
        "**2. Q1 (First Quartile)**\n",
        "Definition: The 25th percentile; the value below which 25% of the data fall.\n",
        "\n",
        "Purpose: Represents the lower quartile, showing the boundary between the lowest 25% and the middle 50%.\n",
        "\n",
        "Example: In a sorted dataset, Q1 is the median of the lower half (excluding the overall median if odd number of values).\n",
        "\n",
        "\n",
        "\n",
        "**3. Median (Q2)**\n",
        "Definition: The 50th percentile; the middle value of the dataset.\n",
        "\n",
        "Purpose: Shows the central tendency, dividing the data into two equal halves.\n",
        "\n",
        "Example: For [1, 3, 5, 7, 9], the median is 5.\n",
        "\n",
        "\n",
        "\n",
        "**4. Q3 (Third Quartile)**\n",
        "Definition: The 75th percentile; the value below which 75% of the data fall.\n",
        "\n",
        "Purpose: Represents the upper quartile, indicating the boundary between the middle 50% and the top 25%.\n",
        "\n",
        "Example: Q3 is the median of the upper half of the data.\n",
        "\n",
        "\n",
        "\n",
        "**5. Maximum**\n",
        "Definition: The largest data point in the dataset.\n",
        "\n",
        "Purpose: Indicates the upper extreme of the data range.\n",
        "\n",
        "Example: In the dataset [4, 8, 15, 16, 23, 42], the maximum is 42.\n",
        "\n",
        "\n",
        "\n",
        "**Use of the Five-number Summary**\n",
        "Helps visualize data spread using box plots.\n",
        "\n",
        "Identifies outliers and skewness.\n",
        "\n",
        "Useful for comparing distributions between different datasets."
      ],
      "metadata": {
        "id": "O2-OPSvC8nS2"
      }
    },
    {
      "cell_type": "markdown",
      "source": [
        "#How Boxplots Help in Detecting Outliers\n",
        "A boxplot (also known as a box-and-whisker plot) is a graphical representation of the five-number summary (Minimum, Q1, Median, Q3, Maximum). It helps visualize the distribution, central tendency, and importantly, outliers in a dataset."
      ],
      "metadata": {
        "id": "bxwBOPzW8nQX"
      }
    },
    {
      "cell_type": "markdown",
      "source": [
        "#How Outliers Are Detected Using a Boxplot\n",
        "\n",
        "Outliers are data points that fall significantly outside the typical range of the dataset. In a boxplot, outliers are identified using the Interquartile Range (IQR):\n",
        "\n",
        "Steps:\n",
        "\n",
        "**Calculate the IQR:**\n",
        "\n",
        "IQR=Q3−Q1\n",
        "\n",
        "\n",
        "**Determine outlier boundaries:**\n",
        "\n",
        "**Lower Bound:**\n",
        "Q1−1.5×IQR\n",
        "\n",
        "**Upper Bound:**\n",
        "Q3+1.5×IQR\n",
        "\n",
        "**Detect Outliers:**\n",
        "\n",
        "Any data point below the lower bound or above the upper bound is considered an outlier.\n",
        "\n",
        "**Benefits of Boxplots for Outlier Detection**\n",
        "\n",
        "1. Quick visual check for outliers.\n",
        "\n",
        "2. Works well with skewed data.\n",
        "\n",
        "3. Highlights spread and variability.\n",
        "\n",
        "4. Useful for comparing multiple datasets side-by-side."
      ],
      "metadata": {
        "id": "kiPnIKhN8nOA"
      }
    },
    {
      "cell_type": "markdown",
      "source": [
        "***Example ***\n",
        "\n",
        "Consider the dataset:\n",
        "\n",
        "5,7,8,12,13,13,14,15,16,100\n",
        "\n",
        "Q1 = 8\n",
        "\n",
        "Q3 = 15\n",
        "\n",
        "IQR = 15 - 8 = 7\n",
        "\n",
        "Lower Bound = 8 - 1.5×7 = -2.5\n",
        "\n",
        "Upper Bound = 15 + 1.5×7 = 25.5\n",
        "\n",
        "100 > 25.5 → Outlier\n",
        "\n",
        "So, the boxplot will show a dot at 100, indicating an outlier."
      ],
      "metadata": {
        "id": "4xRddzHV8nLR"
      }
    },
    {
      "cell_type": "markdown",
      "source": [
        "#Q9. Confidence Interval for the Mean"
      ],
      "metadata": {
        "id": "qTBWsfXDGHxH"
      }
    },
    {
      "cell_type": "markdown",
      "source": [
        "#Problem:\n",
        " A sample of 36 students has an average height of 162 cm with a standard deviation of 6 cm.\n",
        " Calculate the 95% Confidence Interval for the population mean.\n"
      ],
      "metadata": {
        "id": "i2A3CQBMXVbG"
      }
    },
    {
      "cell_type": "markdown",
      "source": [
        "#Solution"
      ],
      "metadata": {
        "id": "85o9BgCmbXhH"
      }
    },
    {
      "cell_type": "markdown",
      "source": [
        "**Step 1:Provided Information**\n",
        "\n",
        "Sample size (\n",
        "n) = 36\n",
        "\n",
        "Sample mean (\n",
        "x'\n",
        " ) = 162 cm\n",
        "\n",
        "Sample standard deviation (\n",
        "s) = 6 cm\n",
        "\n",
        "Confidence level = 95%\n",
        "\n",
        "z=1.96\n",
        "\n",
        "![image.png](data:image/png;base64,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)\n"
      ],
      "metadata": {
        "id": "zg8QpcDOXVF1"
      }
    },
    {
      "cell_type": "code",
      "source": [
        "# Given values\n",
        "sample_mean = 162\n",
        "sample_std = 6\n",
        "sample_size = 36\n",
        "confidence_level = 0.95\n",
        "z_critical = 1.96\n",
        "\n",
        "# Calculate standard error\n",
        "standard_error = sample_std / math.sqrt(sample_size)\n",
        "\n",
        "# Get Z critical value\n",
        "#z_critical = stats.norm.ppf((1 + confidence_level) / 2)\n",
        "\n",
        "# Calculate margin of error\n",
        "margin_of_error = z_critical * standard_error\n",
        "\n",
        "# Confidence interval\n",
        "ci_lower = sample_mean - margin_of_error\n",
        "ci_upper = sample_mean + margin_of_error\n",
        "\n",
        "print(f\"Sample_mean: {sample_mean} cm\")\n",
        "print(f\"margin_of_error: {margin_of_error} cm\")\n",
        "print(f\"95% Confidence Interval: ({ci_lower:.2f} cm, {ci_upper:.2f} cm)\")\n"
      ],
      "metadata": {
        "colab": {
          "base_uri": "https://localhost:8080/"
        },
        "id": "PkjkSyBaetyK",
        "outputId": "6383e639-c073-4185-8fd3-938e3ae4c2e7"
      },
      "execution_count": 9,
      "outputs": [
        {
          "output_type": "stream",
          "name": "stdout",
          "text": [
            "Sample_mean: 162 cm\n",
            "margin_of_error: 1.96 cm\n",
            "95% Confidence Interval: (160.04 cm, 163.96 cm)\n"
          ]
        }
      ]
    },
    {
      "cell_type": "markdown",
      "source": [
        "#Q10. Hypothesis Testing - One Sample Z-Test"
      ],
      "metadata": {
        "id": "P71FNaN_gN4r"
      }
    },
    {
      "cell_type": "markdown",
      "source": [
        "#Problem:\n",
        " The average salary in a city is ₹30,000. A random sample of 49 employees has an average salary of ₹31,000 with a standard deviation of ₹4,900.\n",
        " Test the hypothesis at the 5% level of significance to determine if the average salary has increased.\n",
        "\n",
        "●\ta) State the null and alternative hypothesis:\n",
        "\n",
        "●\tb) Calculate the Z-score:\n",
        "\n",
        "●\tc) Conclude the result using critical value (±1.96)\n"
      ],
      "metadata": {
        "id": "8KIAyrragNoG"
      }
    },
    {
      "cell_type": "markdown",
      "source": [
        "# Solution"
      ],
      "metadata": {
        "id": "qQkWU2qNcvIj"
      }
    },
    {
      "cell_type": "markdown",
      "source": [
        "**Given:**\n",
        "\n",
        "Population mean (\n",
        "μ) = ₹30,000\n",
        "\n",
        "Sample mean (\n",
        "x' ) = ₹31,000\n",
        "\n",
        "Sample standard deviation (\n",
        "s) = ₹4,900\n",
        "\n",
        "Sample size (\n",
        "n) = 49\n",
        "\n",
        "Significance level (\n",
        "α) = 0.05\n",
        "\n",
        "\n",
        "\n",
        "\n",
        "**State the hypotheses:**\n",
        "\n",
        "**Null Hypothesis** (\n",
        "H\n",
        "0\n",
        "​\n",
        " ):\n",
        "μ=30,000 (Average salary has not increased)\n",
        "\n",
        "**Alternative Hypothesis** (\n",
        "H\n",
        "1\n",
        "​\n",
        " ):\n",
        "μ>30,000 (Average salary has increased)\n",
        "\n",
        "This is a right-tailed test.\n",
        "\n",
        "*Use a right-tailed test when the alternative hypothesis states that the population parameter is greater than a specified value.*\n",
        "\n",
        "![image.png](data:image/png;base64,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)"
      ],
      "metadata": {
        "id": "0QD68Fpuhh8u"
      }
    },
    {
      "cell_type": "code",
      "source": [
        "# Given values\n",
        "population_mean = 30000\n",
        "sample_mean = 31000\n",
        "sample_std = 4900\n",
        "sample_size = 49\n",
        "\n",
        "# Calculate Standard Error\n",
        "standard_error = sample_std / math.sqrt(sample_size)\n",
        "\n",
        "# Calculate Z-score\n",
        "z_score = (sample_mean - population_mean) / standard_error\n",
        "\n",
        "print(f\"Z-score: {z_score:.2f}\")\n"
      ],
      "metadata": {
        "colab": {
          "base_uri": "https://localhost:8080/"
        },
        "id": "Vnagx42rip12",
        "outputId": "4061bc25-e9c7-454b-a513-e2a9720387f3"
      },
      "execution_count": null,
      "outputs": [
        {
          "output_type": "stream",
          "name": "stdout",
          "text": [
            "Z-score: 1.43\n"
          ]
        }
      ]
    },
    {
      "cell_type": "code",
      "source": [
        "from scipy.stats import norm\n",
        "\n",
        "# 1-tailed test, significance level 5% (alpha = 0.05)\n",
        "alpha = 0.05\n",
        "\n",
        "# Critical value (right tail)\n",
        "critical_value = norm.ppf(1 - alpha)\n",
        "print(f\"Critical Z-value (right-tailed): {critical_value:.3f}\")\n"
      ],
      "metadata": {
        "colab": {
          "base_uri": "https://localhost:8080/"
        },
        "id": "G39peikJmAyg",
        "outputId": "6b07b61c-fb61-4837-87b4-990501896726"
      },
      "execution_count": null,
      "outputs": [
        {
          "output_type": "stream",
          "name": "stdout",
          "text": [
            "Critical Z-value (right-tailed): 1.645\n"
          ]
        }
      ]
    },
    {
      "cell_type": "markdown",
      "source": [
        "**Conclusion using critical value:**\n",
        "\n",
        "Critical Z-value at 5% significance (one-tailed): 1.645\n",
        "\n",
        "Calculated Z-value: 1.43\n",
        "\n",
        "**Decision Rule:**\n",
        "\n",
        "If\n",
        "Z>1.645, reject\n",
        "H\n",
        "0\n",
        "​\n",
        " ; otherwise, do not reject\n",
        "H\n",
        "0\n",
        "​\n",
        " .\n",
        "\n",
        "Since 1.43 < 1.645, we fail to reject the null hypothesis."
      ],
      "metadata": {
        "id": "tA_my6wNlnil"
      }
    }
  ]
}